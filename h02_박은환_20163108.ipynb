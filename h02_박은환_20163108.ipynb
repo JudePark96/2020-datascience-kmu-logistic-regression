{
  "nbformat": 4,
  "nbformat_minor": 0,
  "metadata": {
    "colab": {
      "name": "logistic_regression.ipynb",
      "provenance": [],
      "collapsed_sections": []
    },
    "kernelspec": {
      "name": "python3",
      "display_name": "Python 3"
    }
  },
  "cells": [
    {
      "cell_type": "code",
      "metadata": {
        "id": "9Vq6h_gfJhc7"
      },
      "source": [
        "# 학습 데이터 생성\n",
        "\n",
        "import torch\n",
        "\n",
        "x_train = torch.FloatTensor([[1],[2],[3],[4],[5],[2.5],[3.5],[0],[3.1],[2.7],[2.8],[2.9]]) \n",
        "y_train = torch.FloatTensor([[1],[1],[1],[0],[0],[0],[0],[1],[0],[1],[1],[1]])"
      ],
      "execution_count": 12,
      "outputs": []
    },
    {
      "cell_type": "code",
      "metadata": {
        "id": "i_pJbxSEJp5M"
      },
      "source": [
        "# 가중치, 편향치, LR 초기화\n",
        "\n",
        "W = torch.zeros(1,1, requires_grad=True) \n",
        "b = torch.zeros(1,1, requires_grad=True)\n",
        "lr = 1.0"
      ],
      "execution_count": 13,
      "outputs": []
    },
    {
      "cell_type": "code",
      "metadata": {
        "id": "iXgJU0LxJ1rm",
        "outputId": "b114eb6b-f3f1-44f0-d30c-446c3e33835e",
        "colab": {
          "base_uri": "https://localhost:8080/",
          "height": 564
        }
      },
      "source": [
        "optimizer = torch.optim.SGD([W, b], lr=1.0)\n",
        "\n",
        "for epoch in range(3001):\n",
        "  hypothesis = torch.sigmoid(x_train @ W + b)\n",
        "  cost = torch.mean(\n",
        "      -y_train * torch.log(hypothesis)\n",
        "      - (1 - y_train) * torch.log(1 - hypothesis)\n",
        "  )\n",
        "\n",
        "  optimizer.zero_grad() \n",
        "  cost.backward() \n",
        "  optimizer.step()\n",
        "\n",
        "  if epoch % 100 == 0:\n",
        "    print(f'epoch: {epoch}, cost: {cost.item()}, W: {W.squeeze()}, b: {b}')"
      ],
      "execution_count": 14,
      "outputs": [
        {
          "output_type": "stream",
          "text": [
            "epoch: 0, cost: 0.6931471824645996, W: -0.15416669845581055, b: tensor([[0.0833]], requires_grad=True)\n",
            "epoch: 100, cost: 0.4202210009098053, W: -1.4512814283370972, b: tensor([[4.4069]], requires_grad=True)\n",
            "epoch: 200, cost: 0.39872148633003235, W: -1.8984334468841553, b: tensor([[5.7738]], requires_grad=True)\n",
            "epoch: 300, cost: 0.3908204138278961, W: -2.1743228435516357, b: tensor([[6.6096]], requires_grad=True)\n",
            "epoch: 400, cost: 0.38700875639915466, W: -2.3673288822174072, b: tensor([[7.1916]], requires_grad=True)\n",
            "epoch: 500, cost: 0.3849243223667145, W: -2.5106256008148193, b: tensor([[7.6225]], requires_grad=True)\n",
            "epoch: 600, cost: 0.3836987316608429, W: -2.620779037475586, b: tensor([[7.9532]], requires_grad=True)\n",
            "epoch: 700, cost: 0.3829435408115387, W: -2.707397222518921, b: tensor([[8.2128]], requires_grad=True)\n",
            "epoch: 800, cost: 0.38246282935142517, W: -2.7765965461730957, b: tensor([[8.4200]], requires_grad=True)\n",
            "epoch: 900, cost: 0.38214942812919617, W: -2.8325209617614746, b: tensor([[8.5874]], requires_grad=True)\n",
            "epoch: 1000, cost: 0.38194143772125244, W: -2.878112316131592, b: tensor([[8.7237]], requires_grad=True)\n",
            "epoch: 1100, cost: 0.38180145621299744, W: -2.91552996635437, b: tensor([[8.8355]], requires_grad=True)\n",
            "epoch: 1200, cost: 0.38170626759529114, W: -2.9464011192321777, b: tensor([[8.9278]], requires_grad=True)\n",
            "epoch: 1300, cost: 0.3816410005092621, W: -2.9719796180725098, b: tensor([[9.0042]], requires_grad=True)\n",
            "epoch: 1400, cost: 0.3815959393978119, W: -2.993241548538208, b: tensor([[9.0677]], requires_grad=True)\n",
            "epoch: 1500, cost: 0.38156458735466003, W: -3.0109684467315674, b: tensor([[9.1206]], requires_grad=True)\n",
            "epoch: 1600, cost: 0.38154277205467224, W: -3.025775909423828, b: tensor([[9.1648]], requires_grad=True)\n",
            "epoch: 1700, cost: 0.38152745366096497, W: -3.0381720066070557, b: tensor([[9.2018]], requires_grad=True)\n",
            "epoch: 1800, cost: 0.381516695022583, W: -3.0485610961914062, b: tensor([[9.2328]], requires_grad=True)\n",
            "epoch: 1900, cost: 0.38150906562805176, W: -3.057278871536255, b: tensor([[9.2588]], requires_grad=True)\n",
            "epoch: 2000, cost: 0.3815038204193115, W: -3.064605236053467, b: tensor([[9.2807]], requires_grad=True)\n",
            "epoch: 2100, cost: 0.3815000355243683, W: -3.070765733718872, b: tensor([[9.2991]], requires_grad=True)\n",
            "epoch: 2200, cost: 0.3814972937107086, W: -3.075949192047119, b: tensor([[9.3145]], requires_grad=True)\n",
            "epoch: 2300, cost: 0.38149547576904297, W: -3.0803143978118896, b: tensor([[9.3275]], requires_grad=True)\n",
            "epoch: 2400, cost: 0.38149407505989075, W: -3.083991527557373, b: tensor([[9.3385]], requires_grad=True)\n",
            "epoch: 2500, cost: 0.38149312138557434, W: -3.0870909690856934, b: tensor([[9.3478]], requires_grad=True)\n",
            "epoch: 2600, cost: 0.3814924657344818, W: -3.0897042751312256, b: tensor([[9.3556]], requires_grad=True)\n",
            "epoch: 2700, cost: 0.3814919888973236, W: -3.0919084548950195, b: tensor([[9.3621]], requires_grad=True)\n",
            "epoch: 2800, cost: 0.38149166107177734, W: -3.093768835067749, b: tensor([[9.3677]], requires_grad=True)\n",
            "epoch: 2900, cost: 0.38149142265319824, W: -3.0953376293182373, b: tensor([[9.3724]], requires_grad=True)\n",
            "epoch: 3000, cost: 0.38149118423461914, W: -3.0966622829437256, b: tensor([[9.3763]], requires_grad=True)\n"
          ],
          "name": "stdout"
        }
      ]
    },
    {
      "cell_type": "code",
      "metadata": {
        "id": "wtJM3oV3J7jq",
        "outputId": "a85d65f5-11d4-4ae8-ac2e-7d79f5a8d4dc",
        "colab": {
          "base_uri": "https://localhost:8080/",
          "height": 279
        }
      },
      "source": [
        "import matplotlib.pyplot as plt\n",
        "\n",
        "W.requires_grad_(False)\n",
        "b.requires_grad_(False)\n",
        "\n",
        "plt.scatter(x_train, y_train, c='black', label='training data')\n",
        "X = torch.linspace(0, 5, 100).unsqueeze(dim=1)\n",
        "Y = torch.sigmoid(X @ W + b)\n",
        "plt.plot(X, Y, c='#ff0000', label='fitting line')\n",
        "plt.legend()\n",
        "plt.ylabel(\"Probability of 1 (Y)\") \n",
        "plt.xlabel(\"Input (X)\")\n",
        "plt.show()"
      ],
      "execution_count": 16,
      "outputs": [
        {
          "output_type": "display_data",
          "data": {
            "image/png": "[encoded data removed]",
            "text/plain": [
              "<Figure size 432x288 with 1 Axes>"
            ]
          },
          "metadata": {
            "tags": [],
            "needs_background": "light"
          }
        }
      ]
    },
    {
      "cell_type": "code",
      "metadata": {
        "id": "pcrhOiW-L-Zw"
      },
      "source": [
        ""
      ],
      "execution_count": null,
      "outputs": []
    }
  ]
}